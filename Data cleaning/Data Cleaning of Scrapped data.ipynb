{
 "cells": [
  {
   "cell_type": "markdown",
   "id": "9e6c455a",
   "metadata": {},
   "source": [
    "# 1. Import library"
   ]
  },
  {
   "cell_type": "code",
   "execution_count": 1,
   "id": "6eff0b4a",
   "metadata": {},
   "outputs": [],
   "source": [
    "import pandas as pd\n",
    "import numpy as np\n",
    "import warnings"
   ]
  },
  {
   "cell_type": "markdown",
   "id": "26846017",
   "metadata": {},
   "source": [
    "# 2. Read csv"
   ]
  },
  {
   "cell_type": "code",
   "execution_count": 2,
   "id": "b644a3bc",
   "metadata": {},
   "outputs": [],
   "source": [
    "df = pd.read_csv('../Data/scrapped data.csv')"
   ]
  },
  {
   "cell_type": "code",
   "execution_count": 3,
   "id": "97ae01f1",
   "metadata": {},
   "outputs": [
    {
     "data": {
      "text/html": [
       "<div>\n",
       "<style scoped>\n",
       "    .dataframe tbody tr th:only-of-type {\n",
       "        vertical-align: middle;\n",
       "    }\n",
       "\n",
       "    .dataframe tbody tr th {\n",
       "        vertical-align: top;\n",
       "    }\n",
       "\n",
       "    .dataframe thead th {\n",
       "        text-align: right;\n",
       "    }\n",
       "</style>\n",
       "<table border=\"1\" class=\"dataframe\">\n",
       "  <thead>\n",
       "    <tr style=\"text-align: right;\">\n",
       "      <th></th>\n",
       "      <th>Designation</th>\n",
       "      <th>Name</th>\n",
       "      <th>Location</th>\n",
       "      <th>Level_and_involvement</th>\n",
       "      <th>Total_applicants</th>\n",
       "      <th>Industry_and_Employee_count</th>\n",
       "      <th>LinkedIn_Followers</th>\n",
       "    </tr>\n",
       "  </thead>\n",
       "  <tbody>\n",
       "    <tr>\n",
       "      <th>0</th>\n",
       "      <td>Quality Analyst Automation</td>\n",
       "      <td>Uplers</td>\n",
       "      <td>Jaipur, Rajasthan, India</td>\n",
       "      <td>Full-time · Associate</td>\n",
       "      <td>122 applicants</td>\n",
       "      <td>1,001-5,000 employees · IT Services and IT Con...</td>\n",
       "      <td>668,044 followers</td>\n",
       "    </tr>\n",
       "    <tr>\n",
       "      <th>1</th>\n",
       "      <td>QA Automation Tester</td>\n",
       "      <td>Uplers</td>\n",
       "      <td>Jaipur, Rajasthan, India</td>\n",
       "      <td>Full-time · Associate</td>\n",
       "      <td>NaN</td>\n",
       "      <td>1,001-5,000 employees · IT Services and IT Con...</td>\n",
       "      <td>668,044 followers</td>\n",
       "    </tr>\n",
       "    <tr>\n",
       "      <th>2</th>\n",
       "      <td>Technology Analyst - Mainframe (3-5 years) - J...</td>\n",
       "      <td>Infosys</td>\n",
       "      <td>Jaipur, Rajasthan, India</td>\n",
       "      <td>Full-time · Associate</td>\n",
       "      <td>29 applicants</td>\n",
       "      <td>10,001+ employees · IT Services and IT Consulting</td>\n",
       "      <td>6,456,621 followers</td>\n",
       "    </tr>\n",
       "    <tr>\n",
       "      <th>3</th>\n",
       "      <td>Web Developer - Python</td>\n",
       "      <td>Uplers</td>\n",
       "      <td>Chennai, Tamil Nadu, India</td>\n",
       "      <td>Full-time · Mid-Senior level</td>\n",
       "      <td>161 applicants</td>\n",
       "      <td>1,001-5,000 employees · IT Services and IT Con...</td>\n",
       "      <td>668,044 followers</td>\n",
       "    </tr>\n",
       "    <tr>\n",
       "      <th>4</th>\n",
       "      <td>Web Developer - Python</td>\n",
       "      <td>Uplers</td>\n",
       "      <td>Noida, Uttar Pradesh, India</td>\n",
       "      <td>Full-time · Mid-Senior level</td>\n",
       "      <td>75 applicants</td>\n",
       "      <td>1,001-5,000 employees · IT Services and IT Con...</td>\n",
       "      <td>668,044 followers</td>\n",
       "    </tr>\n",
       "    <tr>\n",
       "      <th>...</th>\n",
       "      <td>...</td>\n",
       "      <td>...</td>\n",
       "      <td>...</td>\n",
       "      <td>...</td>\n",
       "      <td>...</td>\n",
       "      <td>...</td>\n",
       "      <td>...</td>\n",
       "    </tr>\n",
       "    <tr>\n",
       "      <th>335</th>\n",
       "      <td>Android Developer- WFH</td>\n",
       "      <td>Uplers</td>\n",
       "      <td>Bengaluru, Karnataka, India</td>\n",
       "      <td>Full-time · Mid-Senior level</td>\n",
       "      <td>41 applicants</td>\n",
       "      <td>1,001-5,000 employees · IT Services and IT Con...</td>\n",
       "      <td>668,162 followers</td>\n",
       "    </tr>\n",
       "    <tr>\n",
       "      <th>336</th>\n",
       "      <td>Assistant Manager-BFS024323</td>\n",
       "      <td>Genpact</td>\n",
       "      <td>Bengaluru, Karnataka, India</td>\n",
       "      <td>Full-time · Associate</td>\n",
       "      <td>25 applicants</td>\n",
       "      <td>10,001+ employees · IT Services and IT Consulting</td>\n",
       "      <td>NaN</td>\n",
       "    </tr>\n",
       "    <tr>\n",
       "      <th>337</th>\n",
       "      <td>Developer</td>\n",
       "      <td>Wipro</td>\n",
       "      <td>Delhi, Delhi, India</td>\n",
       "      <td>Full-time · Entry level</td>\n",
       "      <td>NaN</td>\n",
       "      <td>10,001+ employees · IT Services and IT Consulting</td>\n",
       "      <td>NaN</td>\n",
       "    </tr>\n",
       "    <tr>\n",
       "      <th>338</th>\n",
       "      <td>Assurance - Consultant</td>\n",
       "      <td>EY</td>\n",
       "      <td>Kolkata, West Bengal, India</td>\n",
       "      <td>Full-time · Associate</td>\n",
       "      <td>8 applicants</td>\n",
       "      <td>10,001+ employees · Accounting</td>\n",
       "      <td>NaN</td>\n",
       "    </tr>\n",
       "    <tr>\n",
       "      <th>339</th>\n",
       "      <td>Technical Lead</td>\n",
       "      <td>Wipro</td>\n",
       "      <td>Bengaluru, Karnataka, India</td>\n",
       "      <td>Full-time · Mid-Senior level</td>\n",
       "      <td>51 applicants</td>\n",
       "      <td>10,001+ employees · IT Services and IT Consulting</td>\n",
       "      <td>NaN</td>\n",
       "    </tr>\n",
       "  </tbody>\n",
       "</table>\n",
       "<p>340 rows × 7 columns</p>\n",
       "</div>"
      ],
      "text/plain": [
       "                                           Designation     Name  \\\n",
       "0                           Quality Analyst Automation   Uplers   \n",
       "1                                 QA Automation Tester   Uplers   \n",
       "2    Technology Analyst - Mainframe (3-5 years) - J...  Infosys   \n",
       "3                               Web Developer - Python   Uplers   \n",
       "4                               Web Developer - Python   Uplers   \n",
       "..                                                 ...      ...   \n",
       "335                             Android Developer- WFH   Uplers   \n",
       "336                        Assistant Manager-BFS024323  Genpact   \n",
       "337                                          Developer    Wipro   \n",
       "338                             Assurance - Consultant       EY   \n",
       "339                                     Technical Lead    Wipro   \n",
       "\n",
       "                        Location         Level_and_involvement  \\\n",
       "0       Jaipur, Rajasthan, India         Full-time · Associate   \n",
       "1       Jaipur, Rajasthan, India         Full-time · Associate   \n",
       "2       Jaipur, Rajasthan, India         Full-time · Associate   \n",
       "3     Chennai, Tamil Nadu, India  Full-time · Mid-Senior level   \n",
       "4    Noida, Uttar Pradesh, India  Full-time · Mid-Senior level   \n",
       "..                           ...                           ...   \n",
       "335  Bengaluru, Karnataka, India  Full-time · Mid-Senior level   \n",
       "336  Bengaluru, Karnataka, India         Full-time · Associate   \n",
       "337          Delhi, Delhi, India       Full-time · Entry level   \n",
       "338  Kolkata, West Bengal, India         Full-time · Associate   \n",
       "339  Bengaluru, Karnataka, India  Full-time · Mid-Senior level   \n",
       "\n",
       "    Total_applicants                        Industry_and_Employee_count  \\\n",
       "0     122 applicants  1,001-5,000 employees · IT Services and IT Con...   \n",
       "1                NaN  1,001-5,000 employees · IT Services and IT Con...   \n",
       "2      29 applicants  10,001+ employees · IT Services and IT Consulting   \n",
       "3     161 applicants  1,001-5,000 employees · IT Services and IT Con...   \n",
       "4      75 applicants  1,001-5,000 employees · IT Services and IT Con...   \n",
       "..               ...                                                ...   \n",
       "335    41 applicants  1,001-5,000 employees · IT Services and IT Con...   \n",
       "336    25 applicants  10,001+ employees · IT Services and IT Consulting   \n",
       "337              NaN  10,001+ employees · IT Services and IT Consulting   \n",
       "338     8 applicants                     10,001+ employees · Accounting   \n",
       "339    51 applicants  10,001+ employees · IT Services and IT Consulting   \n",
       "\n",
       "      LinkedIn_Followers  \n",
       "0      668,044 followers  \n",
       "1      668,044 followers  \n",
       "2    6,456,621 followers  \n",
       "3      668,044 followers  \n",
       "4      668,044 followers  \n",
       "..                   ...  \n",
       "335    668,162 followers  \n",
       "336                  NaN  \n",
       "337                  NaN  \n",
       "338                  NaN  \n",
       "339                  NaN  \n",
       "\n",
       "[340 rows x 7 columns]"
      ]
     },
     "execution_count": 3,
     "metadata": {},
     "output_type": "execute_result"
    }
   ],
   "source": [
    "df"
   ]
  },
  {
   "cell_type": "markdown",
   "id": "6c983bd6",
   "metadata": {},
   "source": [
    "# 3. Check nulls"
   ]
  },
  {
   "cell_type": "code",
   "execution_count": 4,
   "id": "c92c8d3d",
   "metadata": {},
   "outputs": [
    {
     "data": {
      "text/plain": [
       "Designation                      0\n",
       "Name                             0\n",
       "Location                         0\n",
       "Level_and_involvement            0\n",
       "Total_applicants                41\n",
       "Industry_and_Employee_count      0\n",
       "LinkedIn_Followers             208\n",
       "dtype: int64"
      ]
     },
     "execution_count": 4,
     "metadata": {},
     "output_type": "execute_result"
    }
   ],
   "source": [
    "df.isnull().sum()"
   ]
  },
  {
   "cell_type": "markdown",
   "id": "1070ba6c",
   "metadata": {},
   "source": [
    "# 4. Check Duplicates"
   ]
  },
  {
   "cell_type": "code",
   "execution_count": 5,
   "id": "6b66388f",
   "metadata": {},
   "outputs": [
    {
     "data": {
      "text/plain": [
       "4"
      ]
     },
     "execution_count": 5,
     "metadata": {},
     "output_type": "execute_result"
    }
   ],
   "source": [
    "df.duplicated().sum()"
   ]
  },
  {
   "cell_type": "markdown",
   "id": "9caa7504",
   "metadata": {},
   "source": [
    "# 5. Break down of Level_and_involvement column "
   ]
  },
  {
   "cell_type": "code",
   "execution_count": 6,
   "id": "2c7c78e9",
   "metadata": {},
   "outputs": [],
   "source": [
    "df[['Level','Involvement']] = df['Level_and_involvement'].str.split('·', expand=True)"
   ]
  },
  {
   "cell_type": "markdown",
   "id": "a4cac7b6",
   "metadata": {},
   "source": [
    "# 6. Remove noise and unwanted text from Total_applicants column"
   ]
  },
  {
   "cell_type": "code",
   "execution_count": 7,
   "id": "2321a9e4",
   "metadata": {},
   "outputs": [],
   "source": [
    "df['Total_applicants'] = df['Total_applicants'].str.replace(' applicants', '').str.replace(' applicant', '').fillna(0).astype(int)"
   ]
  },
  {
   "cell_type": "markdown",
   "id": "f227a9c3",
   "metadata": {},
   "source": [
    "# 7. Break down of Industry_and_Employee_count column"
   ]
  },
  {
   "cell_type": "code",
   "execution_count": 8,
   "id": "a872701a",
   "metadata": {},
   "outputs": [],
   "source": [
    "df[['Employee_count','Industry']] = df['Industry_and_Employee_count'].str.split('·', expand=True)"
   ]
  },
  {
   "cell_type": "markdown",
   "id": "7b5fcacb",
   "metadata": {},
   "source": [
    "# 8. Remove noise and unwanted text from Employee_count column"
   ]
  },
  {
   "cell_type": "code",
   "execution_count": 9,
   "id": "184234a0",
   "metadata": {},
   "outputs": [],
   "source": [
    "warnings.filterwarnings('ignore', category=FutureWarning)\n",
    "df['Employee_count'] = df['Employee_count'].str.replace(',', '').str.replace(' employees', '').str.replace('+', '').str[-6:].str.replace('-', '').astype(int)"
   ]
  },
  {
   "cell_type": "markdown",
   "id": "956a7dda",
   "metadata": {},
   "source": [
    "# 9. Remove noise and unwanted text from LinkedIn_Followers column"
   ]
  },
  {
   "cell_type": "code",
   "execution_count": 10,
   "id": "f8178a60",
   "metadata": {},
   "outputs": [],
   "source": [
    "df['LinkedIn_Followers'] = df['LinkedIn_Followers'].str.replace(' followers', '').str.replace(',', '')"
   ]
  },
  {
   "cell_type": "markdown",
   "id": "71d04520",
   "metadata": {},
   "source": [
    "# 10. Remove noise and replace data points of LinkedIn_Followers column"
   ]
  },
  {
   "cell_type": "code",
   "execution_count": 11,
   "id": "05383b42",
   "metadata": {},
   "outputs": [],
   "source": [
    "followers = {'Uplers': 668410,\n",
    "             'Infosys': 6457687,\n",
    "             'Sutherland': 480832,\n",
    "             'Genpact': 2258530,\n",
    "             'Accenture in India': 1494146,\n",
    "             'Wipro': 6404693,\n",
    "             'Tata Consultancy Services': 11324016,\n",
    "             'UST': 724373,\n",
    "             'LTIMindtree': 58311,\n",
    "             'JLL': 1596438,\n",
    "             'EY': 6953289,\n",
    "             'Vodafone Idea Limited': 225455}\n",
    "\n",
    "for x in followers:\n",
    "    df.loc[df['Name'] == x, 'LinkedIn_Followers'] = followers[x]"
   ]
  },
  {
   "cell_type": "markdown",
   "id": "af4e417d",
   "metadata": {},
   "source": [
    "# 11. Break down of Location column"
   ]
  },
  {
   "cell_type": "code",
   "execution_count": 12,
   "id": "506866f8",
   "metadata": {},
   "outputs": [],
   "source": [
    "df[['city','state','country']] = df['Location'].str.split(\",\", expand=True)"
   ]
  },
  {
   "cell_type": "markdown",
   "id": "6b36d7b6",
   "metadata": {},
   "source": [
    "# 12. Delete all unwanted columns from data frame"
   ]
  },
  {
   "cell_type": "code",
   "execution_count": 13,
   "id": "a8b0afaa",
   "metadata": {},
   "outputs": [],
   "source": [
    "df.drop(['Location','Level_and_involvement', 'Industry_and_Employee_count'], axis=1, inplace = True)"
   ]
  },
  {
   "cell_type": "markdown",
   "id": "5d9a223f",
   "metadata": {},
   "source": [
    "# 13. Drop Duplicates"
   ]
  },
  {
   "cell_type": "code",
   "execution_count": 14,
   "id": "bc48684c",
   "metadata": {},
   "outputs": [],
   "source": [
    "df.drop_duplicates(inplace = True)"
   ]
  },
  {
   "cell_type": "markdown",
   "id": "67709c08",
   "metadata": {},
   "source": [
    "# 14. Jobs table"
   ]
  },
  {
   "cell_type": "code",
   "execution_count": 15,
   "id": "5be2a9a8",
   "metadata": {},
   "outputs": [],
   "source": [
    "jobs = df[['city','state','country','Designation']].copy()"
   ]
  },
  {
   "cell_type": "code",
   "execution_count": 16,
   "id": "17e5fc8f",
   "metadata": {},
   "outputs": [],
   "source": [
    "jobs['job_id'] = [i for i in range(1, 335)]"
   ]
  },
  {
   "cell_type": "code",
   "execution_count": 17,
   "id": "ce07c613",
   "metadata": {},
   "outputs": [],
   "source": [
    "jobs = jobs[['job_id', 'Designation', 'city','state','country']].copy()"
   ]
  },
  {
   "cell_type": "code",
   "execution_count": 18,
   "id": "bcbb67d7",
   "metadata": {},
   "outputs": [],
   "source": [
    "jobs['Details_id'] =  [i for i in range(1001, 1335)]"
   ]
  },
  {
   "cell_type": "code",
   "execution_count": 19,
   "id": "71eb7bae",
   "metadata": {},
   "outputs": [
    {
     "data": {
      "text/html": [
       "<div>\n",
       "<style scoped>\n",
       "    .dataframe tbody tr th:only-of-type {\n",
       "        vertical-align: middle;\n",
       "    }\n",
       "\n",
       "    .dataframe tbody tr th {\n",
       "        vertical-align: top;\n",
       "    }\n",
       "\n",
       "    .dataframe thead th {\n",
       "        text-align: right;\n",
       "    }\n",
       "</style>\n",
       "<table border=\"1\" class=\"dataframe\">\n",
       "  <thead>\n",
       "    <tr style=\"text-align: right;\">\n",
       "      <th></th>\n",
       "      <th>job_id</th>\n",
       "      <th>Designation</th>\n",
       "      <th>city</th>\n",
       "      <th>state</th>\n",
       "      <th>country</th>\n",
       "      <th>Details_id</th>\n",
       "    </tr>\n",
       "  </thead>\n",
       "  <tbody>\n",
       "    <tr>\n",
       "      <th>0</th>\n",
       "      <td>1</td>\n",
       "      <td>Quality Analyst Automation</td>\n",
       "      <td>Jaipur</td>\n",
       "      <td>Rajasthan</td>\n",
       "      <td>India</td>\n",
       "      <td>1001</td>\n",
       "    </tr>\n",
       "    <tr>\n",
       "      <th>1</th>\n",
       "      <td>2</td>\n",
       "      <td>QA Automation Tester</td>\n",
       "      <td>Jaipur</td>\n",
       "      <td>Rajasthan</td>\n",
       "      <td>India</td>\n",
       "      <td>1002</td>\n",
       "    </tr>\n",
       "    <tr>\n",
       "      <th>2</th>\n",
       "      <td>3</td>\n",
       "      <td>Technology Analyst - Mainframe (3-5 years) - J...</td>\n",
       "      <td>Jaipur</td>\n",
       "      <td>Rajasthan</td>\n",
       "      <td>India</td>\n",
       "      <td>1003</td>\n",
       "    </tr>\n",
       "    <tr>\n",
       "      <th>3</th>\n",
       "      <td>4</td>\n",
       "      <td>Web Developer - Python</td>\n",
       "      <td>Chennai</td>\n",
       "      <td>Tamil Nadu</td>\n",
       "      <td>India</td>\n",
       "      <td>1004</td>\n",
       "    </tr>\n",
       "    <tr>\n",
       "      <th>4</th>\n",
       "      <td>5</td>\n",
       "      <td>Web Developer - Python</td>\n",
       "      <td>Noida</td>\n",
       "      <td>Uttar Pradesh</td>\n",
       "      <td>India</td>\n",
       "      <td>1005</td>\n",
       "    </tr>\n",
       "    <tr>\n",
       "      <th>...</th>\n",
       "      <td>...</td>\n",
       "      <td>...</td>\n",
       "      <td>...</td>\n",
       "      <td>...</td>\n",
       "      <td>...</td>\n",
       "      <td>...</td>\n",
       "    </tr>\n",
       "    <tr>\n",
       "      <th>335</th>\n",
       "      <td>330</td>\n",
       "      <td>Android Developer- WFH</td>\n",
       "      <td>Bengaluru</td>\n",
       "      <td>Karnataka</td>\n",
       "      <td>India</td>\n",
       "      <td>1330</td>\n",
       "    </tr>\n",
       "    <tr>\n",
       "      <th>336</th>\n",
       "      <td>331</td>\n",
       "      <td>Assistant Manager-BFS024323</td>\n",
       "      <td>Bengaluru</td>\n",
       "      <td>Karnataka</td>\n",
       "      <td>India</td>\n",
       "      <td>1331</td>\n",
       "    </tr>\n",
       "    <tr>\n",
       "      <th>337</th>\n",
       "      <td>332</td>\n",
       "      <td>Developer</td>\n",
       "      <td>Delhi</td>\n",
       "      <td>Delhi</td>\n",
       "      <td>India</td>\n",
       "      <td>1332</td>\n",
       "    </tr>\n",
       "    <tr>\n",
       "      <th>338</th>\n",
       "      <td>333</td>\n",
       "      <td>Assurance - Consultant</td>\n",
       "      <td>Kolkata</td>\n",
       "      <td>West Bengal</td>\n",
       "      <td>India</td>\n",
       "      <td>1333</td>\n",
       "    </tr>\n",
       "    <tr>\n",
       "      <th>339</th>\n",
       "      <td>334</td>\n",
       "      <td>Technical Lead</td>\n",
       "      <td>Bengaluru</td>\n",
       "      <td>Karnataka</td>\n",
       "      <td>India</td>\n",
       "      <td>1334</td>\n",
       "    </tr>\n",
       "  </tbody>\n",
       "</table>\n",
       "<p>334 rows × 6 columns</p>\n",
       "</div>"
      ],
      "text/plain": [
       "     job_id                                        Designation       city  \\\n",
       "0         1                         Quality Analyst Automation     Jaipur   \n",
       "1         2                               QA Automation Tester     Jaipur   \n",
       "2         3  Technology Analyst - Mainframe (3-5 years) - J...     Jaipur   \n",
       "3         4                             Web Developer - Python    Chennai   \n",
       "4         5                             Web Developer - Python      Noida   \n",
       "..      ...                                                ...        ...   \n",
       "335     330                             Android Developer- WFH  Bengaluru   \n",
       "336     331                        Assistant Manager-BFS024323  Bengaluru   \n",
       "337     332                                          Developer      Delhi   \n",
       "338     333                             Assurance - Consultant    Kolkata   \n",
       "339     334                                     Technical Lead  Bengaluru   \n",
       "\n",
       "              state country  Details_id  \n",
       "0         Rajasthan   India        1001  \n",
       "1         Rajasthan   India        1002  \n",
       "2         Rajasthan   India        1003  \n",
       "3        Tamil Nadu   India        1004  \n",
       "4     Uttar Pradesh   India        1005  \n",
       "..              ...     ...         ...  \n",
       "335       Karnataka   India        1330  \n",
       "336       Karnataka   India        1331  \n",
       "337           Delhi   India        1332  \n",
       "338     West Bengal   India        1333  \n",
       "339       Karnataka   India        1334  \n",
       "\n",
       "[334 rows x 6 columns]"
      ]
     },
     "execution_count": 19,
     "metadata": {},
     "output_type": "execute_result"
    }
   ],
   "source": [
    "jobs"
   ]
  },
  {
   "cell_type": "markdown",
   "id": "631f22e8",
   "metadata": {},
   "source": [
    "# 15. Company table"
   ]
  },
  {
   "cell_type": "code",
   "execution_count": 20,
   "id": "7cd76baa",
   "metadata": {},
   "outputs": [],
   "source": [
    "company = df[['Name', 'Industry', 'Employee_count', 'LinkedIn_Followers']].copy()"
   ]
  },
  {
   "cell_type": "code",
   "execution_count": 21,
   "id": "3a29ea2f",
   "metadata": {},
   "outputs": [],
   "source": [
    "ids = dict(zip(company['Name'].unique(), [i for i in range(5001, 5013)]))\n",
    "\n",
    "for i in ids:\n",
    "    company.loc[company['Name'] == i, 'Company_id'] = int(ids[i])"
   ]
  },
  {
   "cell_type": "code",
   "execution_count": 22,
   "id": "069afa61",
   "metadata": {},
   "outputs": [],
   "source": [
    "company['Company_id'] = company['Company_id'].astype(int)"
   ]
  },
  {
   "cell_type": "code",
   "execution_count": 23,
   "id": "9c1ef11a",
   "metadata": {},
   "outputs": [],
   "source": [
    "jobs['Company_id'] = company['Company_id']"
   ]
  },
  {
   "cell_type": "code",
   "execution_count": 24,
   "id": "5bce9d52",
   "metadata": {},
   "outputs": [],
   "source": [
    "company.drop_duplicates(inplace = True)"
   ]
  },
  {
   "cell_type": "code",
   "execution_count": 25,
   "id": "05f7bc44",
   "metadata": {},
   "outputs": [],
   "source": [
    "company = company[['Company_id', 'Name', 'Industry', 'Employee_count', 'LinkedIn_Followers']].copy()"
   ]
  },
  {
   "cell_type": "code",
   "execution_count": 26,
   "id": "5527b958",
   "metadata": {},
   "outputs": [
    {
     "data": {
      "text/html": [
       "<div>\n",
       "<style scoped>\n",
       "    .dataframe tbody tr th:only-of-type {\n",
       "        vertical-align: middle;\n",
       "    }\n",
       "\n",
       "    .dataframe tbody tr th {\n",
       "        vertical-align: top;\n",
       "    }\n",
       "\n",
       "    .dataframe thead th {\n",
       "        text-align: right;\n",
       "    }\n",
       "</style>\n",
       "<table border=\"1\" class=\"dataframe\">\n",
       "  <thead>\n",
       "    <tr style=\"text-align: right;\">\n",
       "      <th></th>\n",
       "      <th>Company_id</th>\n",
       "      <th>Name</th>\n",
       "      <th>Industry</th>\n",
       "      <th>Employee_count</th>\n",
       "      <th>LinkedIn_Followers</th>\n",
       "    </tr>\n",
       "  </thead>\n",
       "  <tbody>\n",
       "    <tr>\n",
       "      <th>0</th>\n",
       "      <td>5001</td>\n",
       "      <td>Uplers</td>\n",
       "      <td>IT Services and IT Consulting</td>\n",
       "      <td>5000</td>\n",
       "      <td>668410</td>\n",
       "    </tr>\n",
       "    <tr>\n",
       "      <th>2</th>\n",
       "      <td>5002</td>\n",
       "      <td>Infosys</td>\n",
       "      <td>IT Services and IT Consulting</td>\n",
       "      <td>10001</td>\n",
       "      <td>6457687</td>\n",
       "    </tr>\n",
       "    <tr>\n",
       "      <th>14</th>\n",
       "      <td>5003</td>\n",
       "      <td>Sutherland</td>\n",
       "      <td>IT Services and IT Consulting</td>\n",
       "      <td>10001</td>\n",
       "      <td>480832</td>\n",
       "    </tr>\n",
       "    <tr>\n",
       "      <th>17</th>\n",
       "      <td>5004</td>\n",
       "      <td>Genpact</td>\n",
       "      <td>IT Services and IT Consulting</td>\n",
       "      <td>10001</td>\n",
       "      <td>2258530</td>\n",
       "    </tr>\n",
       "    <tr>\n",
       "      <th>32</th>\n",
       "      <td>5005</td>\n",
       "      <td>Accenture in India</td>\n",
       "      <td>IT Services and IT Consulting</td>\n",
       "      <td>10001</td>\n",
       "      <td>1494146</td>\n",
       "    </tr>\n",
       "    <tr>\n",
       "      <th>38</th>\n",
       "      <td>5006</td>\n",
       "      <td>Wipro</td>\n",
       "      <td>IT Services and IT Consulting</td>\n",
       "      <td>10001</td>\n",
       "      <td>6404693</td>\n",
       "    </tr>\n",
       "    <tr>\n",
       "      <th>49</th>\n",
       "      <td>5007</td>\n",
       "      <td>Tata Consultancy Services</td>\n",
       "      <td>IT Services and IT Consulting</td>\n",
       "      <td>10001</td>\n",
       "      <td>11324016</td>\n",
       "    </tr>\n",
       "    <tr>\n",
       "      <th>60</th>\n",
       "      <td>5008</td>\n",
       "      <td>UST</td>\n",
       "      <td>IT Services and IT Consulting</td>\n",
       "      <td>10001</td>\n",
       "      <td>724373</td>\n",
       "    </tr>\n",
       "    <tr>\n",
       "      <th>70</th>\n",
       "      <td>5009</td>\n",
       "      <td>LTIMindtree</td>\n",
       "      <td>IT Services and IT Consulting</td>\n",
       "      <td>10001</td>\n",
       "      <td>58311</td>\n",
       "    </tr>\n",
       "    <tr>\n",
       "      <th>78</th>\n",
       "      <td>5010</td>\n",
       "      <td>JLL</td>\n",
       "      <td>Real Estate</td>\n",
       "      <td>10001</td>\n",
       "      <td>1596438</td>\n",
       "    </tr>\n",
       "    <tr>\n",
       "      <th>92</th>\n",
       "      <td>5011</td>\n",
       "      <td>EY</td>\n",
       "      <td>Accounting</td>\n",
       "      <td>10001</td>\n",
       "      <td>6953289</td>\n",
       "    </tr>\n",
       "    <tr>\n",
       "      <th>116</th>\n",
       "      <td>5012</td>\n",
       "      <td>Vodafone Idea Limited</td>\n",
       "      <td>Telecommunications</td>\n",
       "      <td>10001</td>\n",
       "      <td>225455</td>\n",
       "    </tr>\n",
       "  </tbody>\n",
       "</table>\n",
       "</div>"
      ],
      "text/plain": [
       "     Company_id                       Name                        Industry  \\\n",
       "0          5001                     Uplers   IT Services and IT Consulting   \n",
       "2          5002                    Infosys   IT Services and IT Consulting   \n",
       "14         5003                 Sutherland   IT Services and IT Consulting   \n",
       "17         5004                    Genpact   IT Services and IT Consulting   \n",
       "32         5005         Accenture in India   IT Services and IT Consulting   \n",
       "38         5006                      Wipro   IT Services and IT Consulting   \n",
       "49         5007  Tata Consultancy Services   IT Services and IT Consulting   \n",
       "60         5008                        UST   IT Services and IT Consulting   \n",
       "70         5009                LTIMindtree   IT Services and IT Consulting   \n",
       "78         5010                        JLL                     Real Estate   \n",
       "92         5011                         EY                      Accounting   \n",
       "116        5012      Vodafone Idea Limited              Telecommunications   \n",
       "\n",
       "     Employee_count LinkedIn_Followers  \n",
       "0              5000             668410  \n",
       "2             10001            6457687  \n",
       "14            10001             480832  \n",
       "17            10001            2258530  \n",
       "32            10001            1494146  \n",
       "38            10001            6404693  \n",
       "49            10001           11324016  \n",
       "60            10001             724373  \n",
       "70            10001              58311  \n",
       "78            10001            1596438  \n",
       "92            10001            6953289  \n",
       "116           10001             225455  "
      ]
     },
     "execution_count": 26,
     "metadata": {},
     "output_type": "execute_result"
    }
   ],
   "source": [
    "company"
   ]
  },
  {
   "cell_type": "markdown",
   "id": "d4d73c01",
   "metadata": {},
   "source": [
    "# 16. Details table"
   ]
  },
  {
   "cell_type": "code",
   "execution_count": 27,
   "id": "56bd9d14",
   "metadata": {},
   "outputs": [],
   "source": [
    "details = df[['Involvement', 'Level', 'Total_applicants']].copy()"
   ]
  },
  {
   "cell_type": "code",
   "execution_count": 28,
   "id": "445af551",
   "metadata": {},
   "outputs": [],
   "source": [
    "details['Details_id'] =[i for i in range(1001, 1335)]"
   ]
  },
  {
   "cell_type": "code",
   "execution_count": 29,
   "id": "047d4e59",
   "metadata": {},
   "outputs": [],
   "source": [
    "details = details[['Details_id', 'Involvement', 'Level', 'Total_applicants']]"
   ]
  },
  {
   "cell_type": "code",
   "execution_count": 30,
   "id": "7e761e38",
   "metadata": {},
   "outputs": [
    {
     "data": {
      "text/html": [
       "<div>\n",
       "<style scoped>\n",
       "    .dataframe tbody tr th:only-of-type {\n",
       "        vertical-align: middle;\n",
       "    }\n",
       "\n",
       "    .dataframe tbody tr th {\n",
       "        vertical-align: top;\n",
       "    }\n",
       "\n",
       "    .dataframe thead th {\n",
       "        text-align: right;\n",
       "    }\n",
       "</style>\n",
       "<table border=\"1\" class=\"dataframe\">\n",
       "  <thead>\n",
       "    <tr style=\"text-align: right;\">\n",
       "      <th></th>\n",
       "      <th>Details_id</th>\n",
       "      <th>Involvement</th>\n",
       "      <th>Level</th>\n",
       "      <th>Total_applicants</th>\n",
       "    </tr>\n",
       "  </thead>\n",
       "  <tbody>\n",
       "    <tr>\n",
       "      <th>0</th>\n",
       "      <td>1001</td>\n",
       "      <td>Associate</td>\n",
       "      <td>Full-time</td>\n",
       "      <td>122</td>\n",
       "    </tr>\n",
       "    <tr>\n",
       "      <th>1</th>\n",
       "      <td>1002</td>\n",
       "      <td>Associate</td>\n",
       "      <td>Full-time</td>\n",
       "      <td>0</td>\n",
       "    </tr>\n",
       "    <tr>\n",
       "      <th>2</th>\n",
       "      <td>1003</td>\n",
       "      <td>Associate</td>\n",
       "      <td>Full-time</td>\n",
       "      <td>29</td>\n",
       "    </tr>\n",
       "    <tr>\n",
       "      <th>3</th>\n",
       "      <td>1004</td>\n",
       "      <td>Mid-Senior level</td>\n",
       "      <td>Full-time</td>\n",
       "      <td>161</td>\n",
       "    </tr>\n",
       "    <tr>\n",
       "      <th>4</th>\n",
       "      <td>1005</td>\n",
       "      <td>Mid-Senior level</td>\n",
       "      <td>Full-time</td>\n",
       "      <td>75</td>\n",
       "    </tr>\n",
       "    <tr>\n",
       "      <th>...</th>\n",
       "      <td>...</td>\n",
       "      <td>...</td>\n",
       "      <td>...</td>\n",
       "      <td>...</td>\n",
       "    </tr>\n",
       "    <tr>\n",
       "      <th>335</th>\n",
       "      <td>1330</td>\n",
       "      <td>Mid-Senior level</td>\n",
       "      <td>Full-time</td>\n",
       "      <td>41</td>\n",
       "    </tr>\n",
       "    <tr>\n",
       "      <th>336</th>\n",
       "      <td>1331</td>\n",
       "      <td>Associate</td>\n",
       "      <td>Full-time</td>\n",
       "      <td>25</td>\n",
       "    </tr>\n",
       "    <tr>\n",
       "      <th>337</th>\n",
       "      <td>1332</td>\n",
       "      <td>Entry level</td>\n",
       "      <td>Full-time</td>\n",
       "      <td>0</td>\n",
       "    </tr>\n",
       "    <tr>\n",
       "      <th>338</th>\n",
       "      <td>1333</td>\n",
       "      <td>Associate</td>\n",
       "      <td>Full-time</td>\n",
       "      <td>8</td>\n",
       "    </tr>\n",
       "    <tr>\n",
       "      <th>339</th>\n",
       "      <td>1334</td>\n",
       "      <td>Mid-Senior level</td>\n",
       "      <td>Full-time</td>\n",
       "      <td>51</td>\n",
       "    </tr>\n",
       "  </tbody>\n",
       "</table>\n",
       "<p>334 rows × 4 columns</p>\n",
       "</div>"
      ],
      "text/plain": [
       "     Details_id        Involvement       Level  Total_applicants\n",
       "0          1001          Associate  Full-time                122\n",
       "1          1002          Associate  Full-time                  0\n",
       "2          1003          Associate  Full-time                 29\n",
       "3          1004   Mid-Senior level  Full-time                161\n",
       "4          1005   Mid-Senior level  Full-time                 75\n",
       "..          ...                ...         ...               ...\n",
       "335        1330   Mid-Senior level  Full-time                 41\n",
       "336        1331          Associate  Full-time                 25\n",
       "337        1332        Entry level  Full-time                  0\n",
       "338        1333          Associate  Full-time                  8\n",
       "339        1334   Mid-Senior level  Full-time                 51\n",
       "\n",
       "[334 rows x 4 columns]"
      ]
     },
     "execution_count": 30,
     "metadata": {},
     "output_type": "execute_result"
    }
   ],
   "source": [
    "details"
   ]
  },
  {
   "cell_type": "markdown",
   "id": "c42ca261",
   "metadata": {},
   "source": [
    "# 17. Store all the Tables locally for analyzing "
   ]
  },
  {
   "cell_type": "code",
   "execution_count": 31,
   "id": "98a48b47",
   "metadata": {},
   "outputs": [],
   "source": [
    "jobs.to_csv('../Data/jobs.csv', index = False)"
   ]
  },
  {
   "cell_type": "code",
   "execution_count": 32,
   "id": "7df206b6",
   "metadata": {},
   "outputs": [],
   "source": [
    "company.to_csv('../Data/company.csv', index = False)"
   ]
  },
  {
   "cell_type": "code",
   "execution_count": 33,
   "id": "6bd0922a",
   "metadata": {},
   "outputs": [],
   "source": [
    "details.to_csv('../Data/details.csv', index = False)"
   ]
  },
  {
   "cell_type": "markdown",
   "id": "bf076c5c",
   "metadata": {},
   "source": [
    "# Thank You!"
   ]
  }
 ],
 "metadata": {
  "kernelspec": {
   "display_name": "Python 3 (ipykernel)",
   "language": "python",
   "name": "python3"
  },
  "language_info": {
   "codemirror_mode": {
    "name": "ipython",
    "version": 3
   },
   "file_extension": ".py",
   "mimetype": "text/x-python",
   "name": "python",
   "nbconvert_exporter": "python",
   "pygments_lexer": "ipython3",
   "version": "3.9.13"
  }
 },
 "nbformat": 4,
 "nbformat_minor": 5
}
